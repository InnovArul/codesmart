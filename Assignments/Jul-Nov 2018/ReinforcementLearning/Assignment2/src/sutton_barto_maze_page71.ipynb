{
 "cells": [
  {
   "cell_type": "code",
   "execution_count": 22,
   "metadata": {},
   "outputs": [],
   "source": [
    "import matplotlib.pyplot as plt\n",
    "from __future__ import division\n",
    "import os, sys, random\n",
    "import numpy as np\n",
    "\n",
    "N = 5"
   ]
  },
  {
   "cell_type": "markdown",
   "metadata": {},
   "source": [
    "<img src='./sutton_barto_maze.png' width=400 align='left'/>"
   ]
  },
  {
   "cell_type": "code",
   "execution_count": 23,
   "metadata": {},
   "outputs": [],
   "source": [
    "def is_valid_state(curr_state):\n",
    "    # check the validity of the current state\n",
    "    if((curr_state[0] >= 0 and curr_state[0] < N) and\n",
    "       (curr_state[1] >= 0 and curr_state[1] < N)):\n",
    "        return True\n",
    "    else:\n",
    "        return False\n",
    "        "
   ]
  },
  {
   "cell_type": "code",
   "execution_count": 41,
   "metadata": {},
   "outputs": [],
   "source": [
    "def get_valid_state(prev_state, curr_state):\n",
    "    # check the validity of the current state\n",
    "    if((curr_state[0] >= 0 and curr_state[0] < N) and\n",
    "       (curr_state[1] >= 0 and curr_state[1] < N)):\n",
    "        return curr_state\n",
    "    else:\n",
    "        return prev_state"
   ]
  },
  {
   "cell_type": "code",
   "execution_count": 42,
   "metadata": {},
   "outputs": [],
   "source": [
    "def get_state(current_state, action):\n",
    "    next_state = None\n",
    "    \n",
    "    if action == 'UP':\n",
    "        next_state = (current_state[0] - 1, current_state[1])\n",
    "    elif action == 'DOWN':\n",
    "        next_state = (current_state[0] + 1, current_state[1])\n",
    "    elif action == 'LEFT':\n",
    "        next_state = (current_state[0], current_state[1] - 1)\n",
    "    else: # RIGHT\n",
    "        next_state = (current_state[0], current_state[1] + 1)\n",
    "    \n",
    "    return next_state"
   ]
  },
  {
   "cell_type": "code",
   "execution_count": 43,
   "metadata": {},
   "outputs": [],
   "source": [
    "def get_uncertain_actions(action):\n",
    "    if action == 'UP' or action == 'DOWN':\n",
    "        return ['LEFT', 'RIGHT']\n",
    "    else:\n",
    "        return ['UP', 'DOWN']"
   ]
  },
  {
   "cell_type": "code",
   "execution_count": 44,
   "metadata": {},
   "outputs": [],
   "source": [
    "def get_transition_states(current_state):\n",
    "    transitions = []\n",
    "    \n",
    "    # handle the grey IN states (transition is independent of action)\n",
    "    if current_state in [(0, 1)]:\n",
    "        transitions.append([1, (4, 1)])\n",
    "    \n",
    "    # handle the brown IN states (transition is independent of action)\n",
    "    elif current_state in [(0, 3)]:\n",
    "        transitions.append([1, (2, 3)])\n",
    "    \n",
    "    else:\n",
    "        # handle actual states and actions\n",
    "        transitions.append([0.25, get_state(current_state, 'UP')])\n",
    "        transitions.append([0.25, get_state(current_state, 'DOWN')])\n",
    "        transitions.append([0.25, get_state(current_state, 'LEFT')])\n",
    "        transitions.append([0.25, get_state(current_state, 'RIGHT')])\n",
    "            \n",
    "    return transitions"
   ]
  },
  {
   "cell_type": "code",
   "execution_count": 45,
   "metadata": {},
   "outputs": [],
   "source": [
    "def states_enumeration(is_random=True):\n",
    "    x, y = np.meshgrid(np.arange(N), np.arange(N))\n",
    "    states = list(zip(x.reshape(-1), y.reshape(-1)))\n",
    "    \n",
    "    if is_random:\n",
    "        random.shuffle(states)\n",
    "    \n",
    "    return states"
   ]
  },
  {
   "cell_type": "code",
   "execution_count": 46,
   "metadata": {},
   "outputs": [],
   "source": [
    "def get_immediate_reward(prev_state, target_state):\n",
    "    if prev_state == (0, 1):\n",
    "        return +10\n",
    "    elif prev_state == (0, 3):\n",
    "        return +5\n",
    "    elif not is_valid_state(target_state):\n",
    "        return -1\n",
    "    else:\n",
    "        return 0\n",
    "    "
   ]
  },
  {
   "cell_type": "code",
   "execution_count": 47,
   "metadata": {},
   "outputs": [],
   "source": [
    "def get_value(state, V):\n",
    "    transitions = get_transition_states(state)\n",
    "    \n",
    "    current_value = 0\n",
    "    \n",
    "    for transition in transitions:\n",
    "        probability = transition[0]\n",
    "        target_state = transition[1]        \n",
    "        current_value += (probability * (get_immediate_reward(state, target_state)\n",
    "                                         + 0.9 * V[get_valid_state(state, target_state)]))\n",
    "    \n",
    "    return current_value\n",
    "    "
   ]
  },
  {
   "cell_type": "code",
   "execution_count": 48,
   "metadata": {},
   "outputs": [],
   "source": [
    "def value_iteration():\n",
    "\n",
    "    max_costs = []\n",
    "\n",
    "    # initialize value of all states\n",
    "    V = np.zeros((N, N))\n",
    "    pi = np.chararray(V.shape)\n",
    "    eps = 1e-10\n",
    "\n",
    "    is_stop = False\n",
    "    while not is_stop:\n",
    "        prev_V = V.copy()\n",
    "        V = np.zeros((N, N))\n",
    "        states = states_enumeration()\n",
    "\n",
    "        for state in states:\n",
    "#             if state == GOAL:\n",
    "#                 continue\n",
    "\n",
    "            current_value = get_value(state, prev_V)\n",
    "            V[state] = current_value\n",
    "\n",
    "        # check for stopping condition\n",
    "        max_error = np.max(np.abs(prev_V - V))\n",
    "        max_costs.append(max_error)\n",
    "        if max_error <= eps:\n",
    "            is_stop = True\n",
    "\n",
    "    return V, pi, max_costs"
   ]
  },
  {
   "cell_type": "code",
   "execution_count": 49,
   "metadata": {},
   "outputs": [],
   "source": [
    "def draw_table(table, title):\n",
    "    print(title, table.shape)\n",
    "    for row in range(table.shape[0]):\n",
    "        print('--------------------')\n",
    "        current_str = '| '\n",
    "        for column in range(table.shape[1]):\n",
    "            current_str += str(table[row,column]) + ' | '\n",
    "    \n",
    "        print(current_str)\n",
    "        \n",
    "    print('---------------------')\n"
   ]
  },
  {
   "cell_type": "code",
   "execution_count": 50,
   "metadata": {},
   "outputs": [
    {
     "name": "stdout",
     "output_type": "stream",
     "text": [
      "('Values:', (5, 5))\n",
      "--------------------\n",
      "| 3.3 | 8.8 | 4.4 | 5.3 | 1.5 | \n",
      "--------------------\n",
      "| 1.5 | 3.0 | 2.3 | 1.9 | 0.5 | \n",
      "--------------------\n",
      "| 0.1 | 0.7 | 0.7 | 0.4 | -0.4 | \n",
      "--------------------\n",
      "| -1.0 | -0.4 | -0.4 | -0.6 | -1.2 | \n",
      "--------------------\n",
      "| -1.9 | -1.3 | -1.2 | -1.4 | -2.0 | \n",
      "---------------------\n"
     ]
    },
    {
     "data": {
      "text/plain": [
       "[<matplotlib.lines.Line2D at 0x7f384e692450>]"
      ]
     },
     "execution_count": 50,
     "metadata": {},
     "output_type": "execute_result"
    },
    {
     "data": {
      "image/png": "[encoded data removed]",
      "text/plain": [
       "<Figure size 432x288 with 1 Axes>"
      ]
     },
     "metadata": {},
     "output_type": "display_data"
    }
   ],
   "source": [
    "V, pi, max_costs = value_iteration()\n",
    "# draw_table(pi, 'Policy:')\n",
    "draw_table(np.around(V, decimals=1), 'Values:')\n",
    "plt.plot(range(len(max_costs)), max_costs)"
   ]
  },
  {
   "cell_type": "code",
   "execution_count": null,
   "metadata": {},
   "outputs": [],
   "source": [
    "V, pi, max_costs = value_iteration()\n",
    "# draw_table(pi, 'Policy:')\n",
    "draw_table(np.around(V, decimals=1), 'Values:')\n",
    "plt.plot(range(len(max_costs)), max_costs)"
   ]
  },
  {
   "cell_type": "code",
   "execution_count": null,
   "metadata": {},
   "outputs": [],
   "source": []
  }
 ],
 "metadata": {
  "kernelspec": {
   "display_name": "Python 2",
   "language": "python",
   "name": "python2"
  },
  "language_info": {
   "codemirror_mode": {
    "name": "ipython",
    "version": 2
   },
   "file_extension": ".py",
   "mimetype": "text/x-python",
   "name": "python",
   "nbconvert_exporter": "python",
   "pygments_lexer": "ipython2",
   "version": "2.7.15"
  }
 },
 "nbformat": 4,
 "nbformat_minor": 2
}

{
 "cells": [
  {
   "cell_type": "code",
   "execution_count": 5,
   "metadata": {
    "collapsed": true
   },
   "outputs": [],
   "source": [
    "--miscellaneous imports\n",
    "require 'torch'\n",
    "require 'nn'\n",
    "require 'nngraph'\n",
    "require 'image'\n",
    "require 'cutorch'\n",
    "require 'cunn'\n",
    "require 'lfs'\n",
    "\n",
    "modelPath = paths.concat(lfs.currentdir(),'filt=5-hidden1=5-hidden2=5-hidden3=15-fc1=150-fc2=300-model#180.net')"
   ]
  },
  {
   "cell_type": "code",
   "execution_count": 4,
   "metadata": {
    "collapsed": false
   },
   "outputs": [
    {
     "ename": "cannot open </media/arul/envision/jan-may-2016/kernelmethods/Assignment-2/src/imageclassification/bestmodels/bestmodels/filt=5-hidden1=5-hidden2=5-hidden3=15-fc1=150-fc2=300-model#180.net> in mode r  at /tmp/luarocks_torch-scm-1-7590/torch7/lib/TH/THDiskFile.c:649\nstack traceback:\n\t[C]: at 0x7f07cf210200\n\t[C]: in function 'DiskFile'\n\t/home/arul/torch/install/share/lua/5.1/torch/File.lua:405: in function 'load'\n\t[string \"--load the model...\"]:2: in main chunk\n\t[C]: in function 'xpcall'\n\t/home/arul/torch/install/share/lua/5.1/itorch/main.lua:209: in function </home/arul/torch/install/share/lua/5.1/itorch/main.lua:173>\n\t/home/arul/torch/install/share/lua/5.1/lzmq/poller.lua:75: in function 'poll'\n\t/home/arul/torch/install/share/lua/5.1/lzmq/impl/loop.lua:307: in function 'poll'\n\t/home/arul/torch/install/share/lua/5.1/lzmq/impl/loop.lua:325: in function 'sleep_ex'\n\t/home/arul/torch/install/share/lua/5.1/lzmq/impl/loop.lua:370: in function 'start'\n\t/home/arul/torch/install/share/lua/5.1/itorch/main.lua:381: in main chunk\n\t[C]: in function 'require'\n\t(command line):1: in main chunk\n\t[C]: at 0x00406670",
     "evalue": "",
     "output_type": "error",
     "traceback": [
      "cannot open </media/arul/envision/jan-may-2016/kernelmethods/Assignment-2/src/imageclassification/bestmodels/bestmodels/filt=5-hidden1=5-hidden2=5-hidden3=15-fc1=150-fc2=300-model#180.net> in mode r  at /tmp/luarocks_torch-scm-1-7590/torch7/lib/TH/THDiskFile.c:649\nstack traceback:\n\t[C]: at 0x7f07cf210200\n\t[C]: in function 'DiskFile'\n\t/home/arul/torch/install/share/lua/5.1/torch/File.lua:405: in function 'load'\n\t[string \"--load the model...\"]:2: in main chunk\n\t[C]: in function 'xpcall'\n\t/home/arul/torch/install/share/lua/5.1/itorch/main.lua:209: in function </home/arul/torch/install/share/lua/5.1/itorch/main.lua:173>\n\t/home/arul/torch/install/share/lua/5.1/lzmq/poller.lua:75: in function 'poll'\n\t/home/arul/torch/install/share/lua/5.1/lzmq/impl/loop.lua:307: in function 'poll'\n\t/home/arul/torch/install/share/lua/5.1/lzmq/impl/loop.lua:325: in function 'sleep_ex'\n\t/home/arul/torch/install/share/lua/5.1/lzmq/impl/loop.lua:370: in function 'start'\n\t/home/arul/torch/install/share/lua/5.1/itorch/main.lua:381: in main chunk\n\t[C]: in function 'require'\n\t(command line):1: in main chunk\n\t[C]: at 0x00406670"
     ]
    }
   ],
   "source": [
    "--load the model\n",
    "model = torch.load(modelPath)"
   ]
  },
  {
   "cell_type": "code",
   "execution_count": null,
   "metadata": {
    "collapsed": true
   },
   "outputs": [],
   "source": [
    "--visualize the first layer kernels\n"
   ]
  },
  {
   "cell_type": "code",
   "execution_count": null,
   "metadata": {
    "collapsed": true
   },
   "outputs": [],
   "source": []
  },
  {
   "cell_type": "code",
   "execution_count": null,
   "metadata": {
    "collapsed": true
   },
   "outputs": [],
   "source": []
  },
  {
   "cell_type": "code",
   "execution_count": null,
   "metadata": {
    "collapsed": true
   },
   "outputs": [],
   "source": []
  },
  {
   "cell_type": "code",
   "execution_count": null,
   "metadata": {
    "collapsed": true
   },
   "outputs": [],
   "source": []
  }
 ],
 "metadata": {
  "kernelspec": {
   "display_name": "iTorch",
   "language": "lua",
   "name": "itorch"
  },
  "language_info": {
   "name": "lua",
   "version": "5.1"
  }
 },
 "nbformat": 4,
 "nbformat_minor": 0
}
